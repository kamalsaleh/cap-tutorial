{
 "cells": [
  {
   "cell_type": "markdown",
   "metadata": {},
   "source": [
    "(01:Introduction)=\n",
    "# Introduction\n",
    "<hr style=\"height:1px;border:none;color:#666;background-color:#666;\" />"
   ]
  },
  {
   "cell_type": "markdown",
   "metadata": {},
   "source": [
    "## What is CAP"
   ]
  },
  {
   "cell_type": "markdown",
   "metadata": {},
   "source": [
    "[CAP](https://github.com/homalg-project/CAP_project){cite:p}`CAP-project` stands for categories, algorithms, programming and is an open source software project for constructive category theory written in [GAP](https://www.gap-system.org/){cite:p}`GAP4` (groups, algorithms, programming). CAP’s core package includes tools to facilitate the implementation of categories in GAP."
   ]
  }
 ],
 "metadata": {
  "kernelspec": {
   "display_name": "Python 3 (ipykernel)",
   "language": "python",
   "name": "python3"
  },
  "language_info": {
   "codemirror_mode": {
    "name": "ipython",
    "version": 3
   },
   "file_extension": ".py",
   "mimetype": "text/x-python",
   "name": "python",
   "nbconvert_exporter": "python",
   "pygments_lexer": "ipython3",
   "version": "3.8.10"
  },
  "toc-autonumbering": false
 },
 "nbformat": 4,
 "nbformat_minor": 4
}
