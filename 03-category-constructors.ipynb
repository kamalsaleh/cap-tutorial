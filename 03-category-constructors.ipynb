{
 "cells": [
  {
   "cell_type": "markdown",
   "id": "17015eb4",
   "metadata": {},
   "source": [
    "(03:category-constructors)=\n",
    "# Category constructors\n",
    "<hr style=\"height:1px;border:none;color:#666;background-color:#666;\" />"
   ]
  },
  {
   "cell_type": "markdown",
   "id": "e5230671",
   "metadata": {},
   "source": [
    "One of the main design features of CAP is its support for:\n",
    "- defining categorical doctrines;\n",
    "- building category constructors which create instances of such doctrines.\n",
    "\n",
    "We use the term **doctrine** in a loose sense to describe categories with specified additional properties or structures, e.g., additive, Abelian, monoidal, or closed monoidal categories, etc.\n",
    "\n",
    "A **category constructor**, as the name suggests, is a procedure which outputs a category as a\n",
    "particular instance of a specific doctrine. Further we distinguish between\n",
    "\n",
    "- *doctrine-based* category constructors;\n",
    "- *primitive category* constructors.\n",
    "\n",
    "A **doctrine-based** category constructor takes as input one or several categories $C_1 , . . . , C_n$ of\n",
    "specific doctrines $D_1 , \\dots , D_n$ and outputs a category $A$ as a particular instance of a specific\n",
    "doctrine $D$ according to the two following rules:\n",
    "The constructor\n",
    "- specifies the data structure of the objects and morphisms in $A$ in terms of objects and\n",
    "morphisms of the input categories;\n",
    "- expresses all defining categorical operations of the doctrine $D$ (of its output category)\n",
    "as algorithms written in terms of the categorical operations supported by the doctrines\n",
    "$D_1,\\dots,D_n$ (of its input categories).\n",
    "In particular, these algorithms do not depend on the instances $C_1,\\dots,C_n$ but only on their\n",
    "doctrines $D_1,\\dots,D_n$.\n",
    "\n",
    "For example, the category constructor *`AdditiveClosure`* takes as input a preadditive category\n",
    "$C$ and returns the additive closure category $C^{\\oplus}$ , along with an embedding of $C$ in $C^{\\oplus}$ which is universal among all additive functors from $C$ into an additive category. Another example\n",
    "is the Freyd category constructor *`FreydCategory`* which takes as input an additive category $C$\n",
    "and outputs another additive category $\\mathcal{A}(C)$ along with an embedding of $C$ in $\\mathcal{A}(C)$ which is\n",
    "universal among all functors from $C$ into a category with cokernels. In fact, $\\mathcal{A}(C)$ is Abelian if\n",
    "$C$ admits weak-kernels.\n",
    "\n",
    "We refer to category constructors that are not doctrine-based as **primitive** category constructors. For example, the constructor *`FreeCategory`* takes as input a quiver $q$ and outputs the free category $\\mathcal{F}_q$ defined by $q$. Another example is the category constructor *`RingAsCategory`* which takes as input a ring $R$ and outputs the preadditive category $\\mathcal{C}(R)$ consisting of a single object, say $∗$, whose endomorphisms are the elements of $R$.\n",
    "\n",
    "One can now compose the category constructors to produce new instances of categories in which one can conduct the categorical operations supported by their doctrines. A category that is created by composing two or more category constructors will be referred to as a **tower** of categories. Such a tower necessarily starts by applying one or\n",
    "more primitive category constructors on one or more data structures (e.g., sets, rings, quivers,\n",
    "etc). Let us illustrate the idea of towers by an explicit example:\n",
    "\n",
    "- Let $R$ be a left computable ring and R-rows the category of rows over R. The tower\n",
    "$\\mathcal{A}(\\mathcal{C}(R)^{\\oplus}) :=$ *`FreydCategory(AdditiveClosure(RingAsCategory(R)))`*;\n",
    "is equivalent to the category $R\\mbox{-fpres}$ of finite left presentations over $R$."
   ]
  },
  {
   "cell_type": "code",
   "execution_count": null,
   "id": "d03c1e64",
   "metadata": {},
   "outputs": [],
   "source": []
  }
 ],
 "metadata": {
  "kernelspec": {
   "display_name": "Julia 1.7.3",
   "language": "julia",
   "name": "julia-1.7"
  },
  "language_info": {
   "file_extension": ".jl",
   "mimetype": "application/julia",
   "name": "julia",
   "version": "1.7.3"
  }
 },
 "nbformat": 4,
 "nbformat_minor": 5
}
